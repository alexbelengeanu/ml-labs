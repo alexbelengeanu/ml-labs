{
 "cells": [
  {
   "cell_type": "markdown",
   "id": "ab847657-0204-4c6d-9893-3b054c418ffd",
   "metadata": {},
   "source": [
    "## Imports"
   ]
  },
  {
   "cell_type": "code",
   "execution_count": 21,
   "id": "710c5e51-2530-4089-a040-9b2c6e5e7d31",
   "metadata": {},
   "outputs": [],
   "source": [
    "from scipy.io import loadmat\n",
    "\n",
    "from sklearn.decomposition import PCA\n",
    "from sklearn.preprocessing import StandardScaler"
   ]
  },
  {
   "cell_type": "markdown",
   "id": "a283e309-1d8b-4545-b157-3c1c40c2111b",
   "metadata": {},
   "source": [
    "## Loading dataset"
   ]
  },
  {
   "cell_type": "code",
   "execution_count": 12,
   "id": "ed8684ed-4840-40a2-8ccf-0d2fb1c2b5d3",
   "metadata": {},
   "outputs": [],
   "source": [
    "annots = loadmat('wksp_collectedData_24K.mat')"
   ]
  },
  {
   "cell_type": "code",
   "execution_count": 13,
   "id": "b3be89ca-4088-442b-bb81-ca156babbcb5",
   "metadata": {},
   "outputs": [
    {
     "data": {
      "text/plain": [
       "dict_keys(['__header__', '__version__', '__globals__', 'x2total', 'R1total', 'x1total', 'R2total', 'y1m', 'x1m', 'y2m', 'x2m', 'extState', 'utotal'])"
      ]
     },
     "execution_count": 13,
     "metadata": {},
     "output_type": "execute_result"
    }
   ],
   "source": [
    "annots.keys()"
   ]
  },
  {
   "cell_type": "code",
   "execution_count": 14,
   "id": "bb18d633-e6dd-42dc-8f9d-c3083c2e4ad3",
   "metadata": {},
   "outputs": [
    {
     "data": {
      "text/plain": [
       "(24000, 8)"
      ]
     },
     "execution_count": 14,
     "metadata": {},
     "output_type": "execute_result"
    }
   ],
   "source": [
    "annots['extState'].shape"
   ]
  },
  {
   "cell_type": "code",
   "execution_count": 15,
   "id": "4e495feb-3eb7-4be5-96c3-3fcea68d2034",
   "metadata": {},
   "outputs": [
    {
     "data": {
      "text/plain": [
       "array([[1.35651858e-03, 8.16069021e-04, 0.00000000e+00, 0.00000000e+00,\n",
       "        0.00000000e+00, 0.00000000e+00, 0.00000000e+00, 0.00000000e+00],\n",
       "       [3.38666115e-03, 9.53871558e-04, 0.00000000e+00, 0.00000000e+00,\n",
       "        0.00000000e+00, 0.00000000e+00, 0.00000000e+00, 0.00000000e+00],\n",
       "       [1.42570694e-04, 8.82398387e-04, 0.00000000e+00, 0.00000000e+00,\n",
       "        0.00000000e+00, 0.00000000e+00, 1.50000000e-01, 0.00000000e+00],\n",
       "       [5.35286447e-03, 1.15129102e-03, 1.50000000e-01, 0.00000000e+00,\n",
       "        0.00000000e+00, 0.00000000e+00, 1.50000000e-01, 0.00000000e+00],\n",
       "       [1.09603754e-02, 1.21708382e-03, 3.83640235e-01, 1.50000000e-01,\n",
       "        0.00000000e+00, 0.00000000e+00, 1.50000000e-01, 0.00000000e+00]])"
      ]
     },
     "execution_count": 15,
     "metadata": {},
     "output_type": "execute_result"
    }
   ],
   "source": [
    "annots['extState'][:5]"
   ]
  },
  {
   "cell_type": "code",
   "execution_count": 16,
   "id": "1a3b5790-8564-42b5-9ea6-bed3f5b2fb25",
   "metadata": {},
   "outputs": [],
   "source": [
    "extState = annots['extState']"
   ]
  },
  {
   "cell_type": "markdown",
   "id": "eb56081d-2a86-44c8-b4a6-8ea009810c37",
   "metadata": {},
   "source": [
    "## PCA Analysis"
   ]
  },
  {
   "cell_type": "code",
   "execution_count": 22,
   "id": "d0b07254-55b9-42cf-8bb5-d1a44d413f77",
   "metadata": {},
   "outputs": [],
   "source": [
    "std_extState = StandardScaler().fit_transform(extState)"
   ]
  },
  {
   "cell_type": "code",
   "execution_count": null,
   "id": "7b6ceea6-0577-4c8d-9cf3-f97e31e4c90d",
   "metadata": {},
   "outputs": [],
   "source": [
    "pca = PCA()\n",
    "pca.fit(std_extState)"
   ]
  }
 ],
 "metadata": {
  "kernelspec": {
   "display_name": "Python 3 (ipykernel)",
   "language": "python",
   "name": "python3"
  },
  "language_info": {
   "codemirror_mode": {
    "name": "ipython",
    "version": 3
   },
   "file_extension": ".py",
   "mimetype": "text/x-python",
   "name": "python",
   "nbconvert_exporter": "python",
   "pygments_lexer": "ipython3",
   "version": "3.10.7"
  }
 },
 "nbformat": 4,
 "nbformat_minor": 5
}
