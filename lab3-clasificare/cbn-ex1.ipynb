{
 "cells": [
  {
   "cell_type": "markdown",
   "id": "e6344c97-d0e2-488d-8793-5a7f76f55beb",
   "metadata": {},
   "source": [
    "## Imports"
   ]
  },
  {
   "cell_type": "code",
   "execution_count": 1,
   "id": "1bfac37f-f772-48ae-bb88-bab5d5dfebc2",
   "metadata": {},
   "outputs": [],
   "source": [
    "from keras.datasets import mnist\n",
    "import matplotlib.pyplot as plt\n",
    "import numpy as np\n",
    "import pandas as pd"
   ]
  },
  {
   "cell_type": "markdown",
   "id": "bbe0e921-0ad1-42fe-ae97-01361d9838dd",
   "metadata": {},
   "source": [
    "## Load dataset"
   ]
  },
  {
   "cell_type": "code",
   "execution_count": 2,
   "id": "882149ce-2aac-4568-bb87-c6c17b93b5a5",
   "metadata": {},
   "outputs": [],
   "source": [
    "(train_X, train_y), (test_X, test_y) = mnist.load_data()"
   ]
  },
  {
   "cell_type": "code",
   "execution_count": 3,
   "id": "1d5f3af8-ba21-4193-abbc-8f358a7402bf",
   "metadata": {},
   "outputs": [],
   "source": [
    "train_X = train_X / 255\n",
    "test_X = test_X / 255"
   ]
  },
  {
   "cell_type": "code",
   "execution_count": 4,
   "id": "ebdffb4f-bfa9-49d8-9b2e-f5a5c519d619",
   "metadata": {},
   "outputs": [],
   "source": [
    "new_shape = train_X[0].shape[0] * train_X[0].shape[1]"
   ]
  },
  {
   "cell_type": "code",
   "execution_count": 5,
   "id": "2de30e71-26d1-48d4-9401-73906398a612",
   "metadata": {},
   "outputs": [],
   "source": [
    "train_X = train_X.reshape(train_X.shape[0],\n",
    "                         new_shape)\n",
    "test_X = test_X.reshape(test_X.shape[0],\n",
    "                         new_shape)"
   ]
  },
  {
   "cell_type": "markdown",
   "id": "83dd571e-cb48-4e1c-8acc-658cc43d5147",
   "metadata": {},
   "source": [
    "## CBN"
   ]
  },
  {
   "cell_type": "code",
   "execution_count": 6,
   "id": "484d3b6d-c862-4cae-86a2-2a868fb4c23f",
   "metadata": {},
   "outputs": [],
   "source": [
    "class CBN:\n",
    "    def __init__(self):\n",
    "        self.no_instances = None\n",
    "        self.no_features = None\n",
    "        self.no_classes = None\n",
    "        \n",
    "        self.mean = None\n",
    "        self.stdev = None\n",
    "        self.label_occurences = None\n",
    "        \n",
    "        self.probas = None\n",
    "        \n",
    "    def fit(self, X, y):\n",
    "        self.no_instances, self.no_features = X.shape\n",
    "        self.no_classes = len(np.unique(y))\n",
    "        \n",
    "        self.mean = np.zeros((self.no_classes, self.no_features))\n",
    "        self.stdev = np.zeros((self.no_classes, self.no_features))\n",
    "        self.label_occurences = np.zeros(self.no_classes)\n",
    "        \n",
    "        # Summarize the dataset\n",
    "        for label in range(self.no_classes):\n",
    "            X_label = X[y == label]\n",
    "            self.mean[label, :] = np.mean(X_label, axis=0)\n",
    "            self.stdev[label, :] = np.std(X_label, axis=0)\n",
    "            self.label_occurences[label] = X_label.shape[0] / self.no_instances\n",
    "            \n",
    "    def predict(self, X):\n",
    "        y_pred = [self.compute_class_proba(x) for x in X]\n",
    "        return np.array(y_pred)\n",
    "            \n",
    "    def gaussian_proba_dens_func(self, x, mean, stdev):\n",
    "        exponent = np.exp(-(((x-mean) ** 2) / (2 * (stdev ** 2))))\n",
    "        return (1 / np.sqrt(2 * np.pi * (stdev ** 2))) * exponent\n",
    "    \n",
    "    def compute_class_proba(self, x):\n",
    "        self.probas = [occurence for occurence in self.label_occurences]\n",
    "        for label in range(self.no_classes):\n",
    "            print(f'label : {label}')\n",
    "            mean = self.mean[label]\n",
    "            variance = self.stdev[label]\n",
    "            proba = self.gaussian_proba_dens_func(x, mean, variance)\n",
    "            self.probas[label] = self.probas[label] * np.prod(self.gaussian_proba_dens_func(x, mean, variance))\n",
    "            print(f'probas[{label}] : {self.probas[label]}')\n",
    "            \n",
    "        # return the index with the highest class probability\n",
    "        print(f'final probas : {self.probas}')\n",
    "        return np.argmax(self.probas)"
   ]
  },
  {
   "cell_type": "code",
   "execution_count": 7,
   "id": "b4b0e4bb-8ca9-49ef-a8a2-177403d220b4",
   "metadata": {},
   "outputs": [],
   "source": [
    "cbn = CBN()"
   ]
  },
  {
   "cell_type": "code",
   "execution_count": 8,
   "id": "078df629-4e45-4735-8158-66c6729b91df",
   "metadata": {},
   "outputs": [],
   "source": [
    "cbn.fit(train_X, train_y)"
   ]
  },
  {
   "cell_type": "code",
   "execution_count": null,
   "id": "727bdd50-0acd-4e76-b354-c49672dc66f7",
   "metadata": {},
   "outputs": [],
   "source": [
    "test_X[0][0]"
   ]
  },
  {
   "cell_type": "code",
   "execution_count": 11,
   "id": "355da03b-a25f-4365-9186-50475564a7ca",
   "metadata": {},
   "outputs": [
    {
     "data": {
      "text/plain": [
       "array([[0., 0., 0., ..., 0., 0., 0.],\n",
       "       [0., 0., 0., ..., 0., 0., 0.],\n",
       "       [0., 0., 0., ..., 0., 0., 0.],\n",
       "       ...,\n",
       "       [0., 0., 0., ..., 0., 0., 0.],\n",
       "       [0., 0., 0., ..., 0., 0., 0.],\n",
       "       [0., 0., 0., ..., 0., 0., 0.]])"
      ]
     },
     "execution_count": 11,
     "metadata": {},
     "output_type": "execute_result"
    }
   ],
   "source": [
    "cbn.mean"
   ]
  },
  {
   "cell_type": "code",
   "execution_count": null,
   "id": "bb0765af-b52d-48b7-bcdf-bd8bb48e8d19",
   "metadata": {},
   "outputs": [],
   "source": [
    "cbn.compute_class_proba(test_X[0])"
   ]
  },
  {
   "cell_type": "code",
   "execution_count": 13,
   "id": "c4795758-9f58-4ccf-92f0-d285b1ee8cd0",
   "metadata": {},
   "outputs": [],
   "source": [
    "cbn.gaussian_proba_dens_func(test_X[0], cbn.mean[0], cbn.stdev[0])"
   ]
  },
  {
   "cell_type": "code",
   "execution_count": null,
   "id": "a23003ab-3dd2-4846-9a25-c8902209e709",
   "metadata": {},
   "outputs": [],
   "source": [
    "pred_y = cbn.predict(test_X)"
   ]
  },
  {
   "cell_type": "code",
   "execution_count": null,
   "id": "c274ee34-75da-40ad-8133-3465d4133e1c",
   "metadata": {},
   "outputs": [],
   "source": [
    "np.sum(test_y==pred_y) / len(test_y)"
   ]
  }
 ],
 "metadata": {
  "kernelspec": {
   "display_name": "Python 3 (ipykernel)",
   "language": "python",
   "name": "python3"
  },
  "language_info": {
   "codemirror_mode": {
    "name": "ipython",
    "version": 3
   },
   "file_extension": ".py",
   "mimetype": "text/x-python",
   "name": "python",
   "nbconvert_exporter": "python",
   "pygments_lexer": "ipython3",
   "version": "3.10.7"
  }
 },
 "nbformat": 4,
 "nbformat_minor": 5
}
